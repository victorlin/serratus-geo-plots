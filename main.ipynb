{
 "cells": [
  {
   "cell_type": "code",
   "execution_count": 1,
   "id": "guided-memphis",
   "metadata": {},
   "outputs": [],
   "source": [
    "from aurora import download\n",
    "import numpy as np\n",
    "import plotly.express as px"
   ]
  },
  {
   "cell_type": "code",
   "execution_count": 2,
   "id": "everyday-assist",
   "metadata": {},
   "outputs": [],
   "source": [
    "# some helper functions\n",
    "\n",
    "def add_jitter(df):\n",
    "    df['jitter_y'] = 0.00001 * np.random.randint(0,99,df.coordinate_y.size) * np.random.choice([-1,1])\n",
    "    df['jitter_x'] = 0.00002 * np.random.randint(0,99,df.coordinate_x.size) * np.random.choice([-1,1])\n",
    "    df['coord_jx'] = df['coordinate_x'] + df['jitter_x']\n",
    "    df['coord_jy'] = df['coordinate_y'] + df['jitter_y']\n",
    "    return df\n",
    "\n",
    "def plot(df, hover_data, hover_name, write_html=None):\n",
    "    df_jitter = add_jitter(df)\n",
    "    fig = px.density_mapbox(df_jitter,\n",
    "                            lat=\"coord_jy\", lon=\"coord_jx\",\n",
    "                            hover_data=hover_data,\n",
    "                            hover_name=hover_name,\n",
    "                            radius=3, zoom=1)\n",
    "    fig.update_layout(mapbox_style=\"open-street-map\")\n",
    "    fig.update_layout(margin={\"r\":0,\"t\":0,\"l\":0,\"b\":0})\n",
    "    if write_html:\n",
    "        fig.write_html(write_html)\n",
    "    else:\n",
    "        fig.show()"
   ]
  },
  {
   "cell_type": "markdown",
   "id": "chubby-italy",
   "metadata": {},
   "source": [
    "## all geocoding results"
   ]
  },
  {
   "cell_type": "code",
   "execution_count": 3,
   "id": "ancient-workplace",
   "metadata": {},
   "outputs": [],
   "source": [
    "query = 'select * from biosample_geocode'\n",
    "df = download(query)\n",
    "df = df[~((df['coordinate_x'] < -180) | (df['coordinate_x'] > 180) | (df['coordinate_y'] < -90) | (df['coordinate_y'] > 90))]\n",
    "plot(df,\n",
    "     hover_data=[\"coordinate_y\", \"coordinate_x\"],\n",
    "     hover_name=\"geo_text_extracted\",\n",
    "     write_html=\"plots/geocoded_all.html\"\n",
    ")"
   ]
  },
  {
   "cell_type": "markdown",
   "id": "bibliographic-burning",
   "metadata": {},
   "source": [
    "### potential useless labels"
   ]
  },
  {
   "cell_type": "code",
   "execution_count": 4,
   "id": "banner-receptor",
   "metadata": {
    "scrolled": true
   },
   "outputs": [],
   "source": [
    "import pycountry\n",
    "country_names = {country.name.lower() for country in pycountry.countries}\n",
    "other_valid_geo_keywords = {'usa', 'russia', 'korea', 'nigeria', 'venezuela', 'iran', 'tanzania', 'england', 'cape verde', 'czech republic', 'taiwan', 'kosovo', 'macedonia', 'bolivia'}\n",
    "all_valid_geo_keywords = country_names | other_valid_geo_keywords\n",
    "\n",
    "def has_country(text):\n",
    "    if any(country in text for country in all_valid_geo_keywords):\n",
    "        return True\n",
    "    return False\n",
    "\n",
    "# get text without valid keyword\n",
    "df = df[~df['geo_text_extracted'].apply(has_country)]\n",
    "\n",
    "plot(df,\n",
    "     hover_data=[\"coordinate_y\", \"coordinate_x\"],\n",
    "     hover_name=\"geo_text_extracted\",\n",
    "     write_html=\"plots/geocoded_no_keyword.html\"\n",
    ")"
   ]
  },
  {
   "cell_type": "markdown",
   "id": "silver-leonard",
   "metadata": {},
   "source": [
    "## RdRP-pos geospatial info"
   ]
  },
  {
   "cell_type": "code",
   "execution_count": 5,
   "id": "funny-friendly",
   "metadata": {},
   "outputs": [],
   "source": [
    "query = '''\n",
    "select sgc.sra_id, biosample_id, release_date, coordinate_x, coordinate_y, from_text\n",
    "from srarun_geo_coordinates sgc \n",
    "inner join rdrp_pos rp on (sgc.sra_id = rp.sra_id)\n",
    "'''\n",
    "df = download(query)\n",
    "df = df[~((df['coordinate_x'] < -180) | (df['coordinate_x'] > 180) | (df['coordinate_y'] < -90) | (df['coordinate_y'] > 90))]\n",
    "\n",
    "plot(df,\n",
    "     hover_data=[\"coordinate_y\", \"coordinate_x\", 'from_text', 'biosample_id'],\n",
    "     hover_name=\"sra_id\",\n",
    "     write_html=\"plots/geocoded_rdrp_pos.html\"\n",
    ")"
   ]
  }
 ],
 "metadata": {
  "kernelspec": {
   "display_name": "Python 3",
   "language": "python",
   "name": "python3"
  },
  "language_info": {
   "codemirror_mode": {
    "name": "ipython",
    "version": 3
   },
   "file_extension": ".py",
   "mimetype": "text/x-python",
   "name": "python",
   "nbconvert_exporter": "python",
   "pygments_lexer": "ipython3",
   "version": "3.8.5"
  }
 },
 "nbformat": 4,
 "nbformat_minor": 5
}
